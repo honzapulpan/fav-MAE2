{
 "cells": [
  {
   "cell_type": "markdown",
   "metadata": {},
   "source": [
    "## Modely\n",
    "- základní GH podle knížky\n",
    "- přidat pravděpodobnost že se chytnu marketingu\n",
    "- zkusit jinou síť\n",
    "- porovnat se SIRS modelem\n",
    "\n",
    "\n",
    "\n",
    "### TODO:\n",
    "\n",
    "- pojmenovat správně to pravidlo\n",
    "- přidat stochasticitu do modelu\n",
    "- vybrat si téma, na kterém to vysvětlovat (nejlépe nějaké ekonomické) - virální marketing\n",
    "- jinej tvar sítě (asi i kreslit pomocí NetworkX)\n",
    "- asynchronní dynamika - updatuju jen one cell at a time\n",
    "    - místo aplikace pravidla na celou sít, tak to dělat jeden po druhém (náhodně vybraní)\n",
    "    - otázka je, jak vybírat cell který updatovat - náhodně, nějaké pravidlo?\n",
    "- pokusit se u každé modifikace popsat jak se změní matematickej základ - jde to nějak popsat jinak než jen simulací?\n",
    "- porovnání se SIRS modelem, ale na ekonomickém tématu\n",
    "\n",
    "Obecné otázky:\n",
    "- nevidím moc rozdíl mezi CA a ABM zkusit říct co si o tom myslim\n",
    "- ABM staví model od nejsložitějšího k jednodušímu, diferenciální rovnice co nejvíc zjednodušujou už na začátku a pak zesložiťujou"
   ]
  },
  {
   "cell_type": "code",
   "execution_count": null,
   "metadata": {},
   "outputs": [],
   "source": []
  }
 ],
 "metadata": {
  "kernelspec": {
   "display_name": "Python 3",
   "language": "python",
   "name": "python3"
  },
  "language_info": {
   "codemirror_mode": {
    "name": "ipython",
    "version": 3
   },
   "file_extension": ".py",
   "mimetype": "text/x-python",
   "name": "python",
   "nbconvert_exporter": "python",
   "pygments_lexer": "ipython3",
   "version": "3.8.2"
  }
 },
 "nbformat": 4,
 "nbformat_minor": 4
}
