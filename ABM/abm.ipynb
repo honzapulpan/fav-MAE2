{
 "cells": [
  {
   "cell_type": "markdown",
   "metadata": {},
   "source": [
    "# ABM - model virálního marketingu\n",
    "\n",
    "*KMA/MAE2*\n",
    "\n",
    "*Jan Půlpán*"
   ]
  },
  {
   "cell_type": "code",
   "execution_count": 1,
   "metadata": {},
   "outputs": [],
   "source": [
    "import numpy as np\n",
    "import ipywidgets as widgets\n",
    "from abm import wom"
   ]
  },
  {
   "cell_type": "markdown",
   "metadata": {},
   "source": [
    "Model který si ukážeme modeluje virální marketing. Představit si můžeme třeba šíření reklamního videa na internetu, nebo tzv. \"word-of-mouth\" šíření informace o produktu mezi lidmi. Cílem marketérů je šířit povědomí o svém produktu samovolně, bez jejich přispění. Úspěšná virální kampaň je taková, která nastartuje masové šíření zprávy. To ale není vůbec jednoduché. Model tedy zkoumá na základě jakých předpokladů se zpráva začne v síti masově šířit.\n",
    "\n",
    "JE TO VLASTNĚ EPIDEMIOLOGICKÝ PRAHOVÝ MODEL - GRANOVETTER 1978\n",
    "\n",
    "Opět se jedná o 3 stavový model, podobně jako Greenbergův-Hastingsův model nebo SIR. Jednotlivce (agenty) řadíme do těchto 3 přihládek:\n",
    "- **S**usceptible - náchylní, zpráva se k nim ještě nedostala, označeni modře\n",
    "- **L**atent - latentní, nečinní, zpráva se k nim dostala, ale dostatečně je nezajímá, dál ji nešíří, označeni oranžově\n",
    "- **A**ctive - aktivní, dále šířící, označeni červeně\n",
    "\n",
    "Model pracuje opět na mřížce, kterou jsme vybrali kvůli rychlosti běhu algoritmu. Všechny buňky na mřížce nejsou ale obsazeny agenty. Tyto prázdné buňky jsou ve znázornění bílé."
   ]
  },
  {
   "cell_type": "code",
   "execution_count": 35,
   "metadata": {},
   "outputs": [
    {
     "data": {
      "application/vnd.jupyter.widget-view+json": {
       "model_id": "e1fda5bd992a4acf86f47382ef0d51d9",
       "version_major": 2,
       "version_minor": 0
      },
      "text/plain": [
       "interactive(children=(IntSlider(value=0, description='t'), Checkbox(value=False, description='labels'), Output…"
      ]
     },
     "metadata": {},
     "output_type": "display_data"
    }
   ],
   "source": [
    "model1 = wom(agents=.8, threshold=(.20,.1), net_dim=30)\n",
    "model1.simulate(iters = 100)\n",
    "interactive_plot = widgets.interactive(model1.plot_sim_state, \n",
    "                               t = widgets.IntSlider(min=0, max=model1.iters_no, step=1, value=0)) \n",
    "interactive_plot"
   ]
  },
  {
   "cell_type": "markdown",
   "metadata": {},
   "source": [
    "## Inicializace modelu\n",
    "\n",
    "Model musíme nejprve inicializovat. Vytvoříme síť agentů, některé buňky nejsou obsazené a zůstávají prázdné. Množství agentů v modelu je dáno parametrem $agents \\in [0,1]$. V modelu počítáme s 3-okolím ve všech směrech. Jeden agent může mít tedy maximálně 48 sousedů.\n",
    "\n",
    "<center><img src='3okoli.png'></center>\n",
    "\n",
    "Každému agentu $a$ přiřadíme práh $T(a)$, který určuje jeho ochotu přepnout z jednoho stavu do druhého. Práh je vlastně funkce osoby samotné (agenta), jejího prostředí a okolností.  \n",
    "\n",
    "$$T(a) = f(\\text{Agent, Prostředí, Okolnosti})$$  \n",
    "Ve skutečném světě je tyto vlastnosti agentů velmi složité stanovit. My je vygenerujeme náhodně (z normálního rozdělení se střední hodnotou $\\mu$ a rozptylem $\\sigma^2$) jako číslo mezi 0 a 1. "
   ]
  },
  {
   "cell_type": "markdown",
   "metadata": {},
   "source": [
    "## Dynamické chování\n",
    "\n",
    "V tomto konkrétním modelu pracujeme v každém kroku s celou síťí, ne jen s jednotlivým (náhodně vybraným) agentem jako při asynchronní dynamice.\n",
    "\n",
    "Jednotlivé přihrádky označíme čísly:\n",
    "- **S**usceptible ... $1$,\n",
    "- **L**atent ... $2$,\n",
    "- **A**ctive ... $3$.\n",
    "\n",
    "Prázdnou buňku označíme $0$.\n",
    "\n",
    "Definujeme poměr aktivních sousedů (v přihrádce $A$) oproti všem sousedům\n",
    "\n",
    "$$ \\sigma(a) = \\frac{\\text{# A sousedů}}{\\text{# všech sousedů}}$$\n",
    "\n",
    "S pomocí $\\sigma(a)$ definujeme následující dynamické pravidlo\n",
    "\n",
    "$$ \\left.f\\left( a \\right|_{U_3(a)} \\right) = \\begin{cases} 3 \\text{ jestliže } 0 \\leq T(a) < \\sigma(a),\\\\ \n",
    "2 \\text{ jestliže } 0 < \\sigma(a) < T(a),\\\\\n",
    "1 \\text{ jinak, }\\end{cases}$$"
   ]
  },
  {
   "cell_type": "markdown",
   "metadata": {},
   "source": [
    "## Zkoumaná otázka a parametry\n",
    "\n",
    "Otázka která zajímá marketéry je, zda ve zkoumaném modelu vznikne masové šíření zprávy. Pomocí similací popsaného modelu sledovali následující parametry a jejich vliv na vznik šíření nebo naopak na jeho zastavení.\n",
    "\n",
    "Intiutivně má vliv *počáteční podmínka*. V našem případě tedy počet a rozložení iniciálních agentů, tzv iniciátorů. Počet je důležitý, ale ukážene si, že ještě důležitější je jejich hustota a blízkost. Samozřejmým parametrem je pak i *hustota celé populace*. Pokud je populace v modelu zahuštěnější (ne nutně to musí znamenat v prostoru, na sociálních sítích je to blízkost pomocí sledování) zpráva se samozřejmě snadněji šíří. A posledním parametrem který nás bude zajímat je *práh* jednotlivých agentů. \n",
    "\n",
    "\n",
    "------ TADY POKRAČOVAT\n",
    "\n",
    "Threshold\n",
    "- tím že ho snížím snížím samozřejmě šanci na masové šíření\n",
    "- tato závislost není ale lineární - i malá změna thresholdu může hodně změnit to, zda se bude masově šířit\n",
    "\n",
    "Počáteční podmínka - blízkost a hustota iniciátorů\n",
    "- pokud jsou hodně rozházeni - ovlivní jen ty s velmi nízkým thresholdem\n",
    "- pokud jsou pohromadě, mohou ovlivnit víc okolních agentů. Je zde ale zase riziko že se z inicitorů vyvine uzavřená skupina"
   ]
  },
  {
   "cell_type": "markdown",
   "metadata": {},
   "source": [
    "## Koncentrovaní iniciátoři, nízký threshold"
   ]
  },
  {
   "cell_type": "code",
   "execution_count": 3,
   "metadata": {},
   "outputs": [
    {
     "data": {
      "text/plain": [
       "'Průměrný threshold: 0.17250912041913183'"
      ]
     },
     "metadata": {},
     "output_type": "display_data"
    },
    {
     "data": {
      "image/png": "[encoded data removed]",
      "text/plain": [
       "<Figure size 720x432 with 1 Axes>"
      ]
     },
     "metadata": {
      "needs_background": "light"
     },
     "output_type": "display_data"
    }
   ],
   "source": [
    "model2 = wom(agents=.8, threshold=(.17,.1), net_dim=30)\n",
    "model2.simulate(iters = 200, ic=((10,10,3),))\n",
    "\n",
    "model2.describe_model()"
   ]
  },
  {
   "cell_type": "code",
   "execution_count": 4,
   "metadata": {},
   "outputs": [
    {
     "data": {
      "application/vnd.jupyter.widget-view+json": {
       "model_id": "5a9e9ddc085347e29d88eabf1aa5871d",
       "version_major": 2,
       "version_minor": 0
      },
      "text/plain": [
       "interactive(children=(IntSlider(value=0, description='t', max=200), Checkbox(value=False, description='labels'…"
      ]
     },
     "metadata": {},
     "output_type": "display_data"
    }
   ],
   "source": [
    "interactive_plot = widgets.interactive(model2.plot_sim_state, \n",
    "                               t = widgets.IntSlider(min=0, max=model2.iters_no, step=1, value=0)) \n",
    "interactive_plot"
   ]
  },
  {
   "cell_type": "markdown",
   "metadata": {},
   "source": [
    "## Koncentrovaní iniciátoři, vysoký threshold"
   ]
  },
  {
   "cell_type": "code",
   "execution_count": 6,
   "metadata": {},
   "outputs": [
    {
     "data": {
      "text/plain": [
       "'Průměrný threshold: 0.245889047055364'"
      ]
     },
     "metadata": {},
     "output_type": "display_data"
    },
    {
     "data": {
      "image/png": "[encoded data removed]",
      "text/plain": [
       "<Figure size 720x432 with 1 Axes>"
      ]
     },
     "metadata": {
      "needs_background": "light"
     },
     "output_type": "display_data"
    }
   ],
   "source": [
    "model3 = wom(agents=.8, threshold=(.25,.1), net_dim=30)\n",
    "model3.simulate(iters = 100, ic=((10,10,3),))\n",
    "model3.describe_model()"
   ]
  },
  {
   "cell_type": "code",
   "execution_count": 7,
   "metadata": {},
   "outputs": [
    {
     "data": {
      "application/vnd.jupyter.widget-view+json": {
       "model_id": "df01f96572804812abec3b16cc8c9400",
       "version_major": 2,
       "version_minor": 0
      },
      "text/plain": [
       "interactive(children=(IntSlider(value=0, description='t'), Checkbox(value=False, description='labels'), Output…"
      ]
     },
     "metadata": {},
     "output_type": "display_data"
    }
   ],
   "source": [
    "interactive_plot = widgets.interactive(model3.plot_sim_state, \n",
    "                               t = widgets.IntSlider(min=0, max=model3.iters_no, step=1, value=0)) \n",
    "interactive_plot"
   ]
  },
  {
   "cell_type": "markdown",
   "metadata": {},
   "source": [
    "## Roztroušení iniciátoři, nizký threshold"
   ]
  },
  {
   "cell_type": "code",
   "execution_count": 17,
   "metadata": {},
   "outputs": [
    {
     "data": {
      "text/plain": [
       "'Průměrný threshold: 0.17235703171440275'"
      ]
     },
     "metadata": {},
     "output_type": "display_data"
    },
    {
     "data": {
      "image/png": "[encoded data removed]",
      "text/plain": [
       "<Figure size 720x432 with 1 Axes>"
      ]
     },
     "metadata": {
      "needs_background": "light"
     },
     "output_type": "display_data"
    }
   ],
   "source": [
    "model4 = wom(agents=.8, threshold=(.17,.1), net_dim=30)\n",
    "model4.simulate(iters = 100, ic=((10,10,0),(25,12,0),(3,27,0),))\n",
    "model4.describe_model()"
   ]
  },
  {
   "cell_type": "code",
   "execution_count": 18,
   "metadata": {},
   "outputs": [
    {
     "data": {
      "application/vnd.jupyter.widget-view+json": {
       "model_id": "d7d0f16adb6c477cb2443da809bcf92c",
       "version_major": 2,
       "version_minor": 0
      },
      "text/plain": [
       "interactive(children=(IntSlider(value=0, description='t'), Checkbox(value=False, description='labels'), Output…"
      ]
     },
     "metadata": {},
     "output_type": "display_data"
    }
   ],
   "source": [
    "interactive_plot = widgets.interactive(model4.plot_sim_state, \n",
    "                               t = widgets.IntSlider(min=0, max=model4.iters_no, step=1, value=0)) \n",
    "interactive_plot"
   ]
  },
  {
   "cell_type": "markdown",
   "metadata": {},
   "source": [
    "## Roztroušení iniciátoři, vysoký threshold"
   ]
  },
  {
   "cell_type": "code",
   "execution_count": 24,
   "metadata": {},
   "outputs": [
    {
     "data": {
      "text/plain": [
       "'Průměrný threshold: 0.1695235329157463'"
      ]
     },
     "metadata": {},
     "output_type": "display_data"
    },
    {
     "data": {
      "image/png": "[encoded data removed]",
      "text/plain": [
       "<Figure size 720x432 with 1 Axes>"
      ]
     },
     "metadata": {
      "needs_background": "light"
     },
     "output_type": "display_data"
    }
   ],
   "source": [
    "model5 = wom(agents=.8, threshold=(.17,.1), net_dim=30)\n",
    "model5.simulate(iters = 50, ic=((10,10,0),(25,12,0),(3,27,0),))\n",
    "model5.describe_model()"
   ]
  },
  {
   "cell_type": "code",
   "execution_count": 25,
   "metadata": {},
   "outputs": [
    {
     "data": {
      "application/vnd.jupyter.widget-view+json": {
       "model_id": "a06ec952dfee485cbfc04c77edb66644",
       "version_major": 2,
       "version_minor": 0
      },
      "text/plain": [
       "interactive(children=(IntSlider(value=0, description='t', max=50), Checkbox(value=False, description='labels')…"
      ]
     },
     "metadata": {},
     "output_type": "display_data"
    }
   ],
   "source": [
    "interactive_plot = widgets.interactive(model5.plot_sim_state, \n",
    "                               t = widgets.IntSlider(min=0, max=model5.iters_no, step=1, value=0)) \n",
    "interactive_plot"
   ]
  },
  {
   "cell_type": "markdown",
   "metadata": {},
   "source": [
    "Závěry:\n",
    "- roztroušení iniciátoři ovlivní hodně ostatních jen tehdy, pokud je průměrný threshold nízký \n",
    "- pokud je průměrný threshold vysoký, musí být iniciátoři koncentrovaní, aby hromadné šíření začalo\n",
    "- agenti mají informace jen o svém blízkém okolí, \"skupina\" iniciátorů se jim ten zdá větší než ve skutečnosti je"
   ]
  },
  {
   "cell_type": "markdown",
   "metadata": {},
   "source": [
    "Zdroje:\n",
    "\n",
    "[1] Brudermann, Thomas & Fenzl, Thomas. (2009). Word-of-mouth Advertising: An Agent-based Modelling Approach.  \n"
   ]
  },
  {
   "cell_type": "code",
   "execution_count": null,
   "metadata": {},
   "outputs": [],
   "source": []
  }
 ],
 "metadata": {
  "kernelspec": {
   "display_name": "Python 3",
   "language": "python",
   "name": "python3"
  },
  "language_info": {
   "codemirror_mode": {
    "name": "ipython",
    "version": 3
   },
   "file_extension": ".py",
   "mimetype": "text/x-python",
   "name": "python",
   "nbconvert_exporter": "python",
   "pygments_lexer": "ipython3",
   "version": "3.8.2"
  },
  "toc-autonumbering": false
 },
 "nbformat": 4,
 "nbformat_minor": 4
}
