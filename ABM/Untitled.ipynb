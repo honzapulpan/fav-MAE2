{
 "cells": [
  {
   "cell_type": "code",
   "execution_count": 110,
   "metadata": {},
   "outputs": [],
   "source": [
    "import numpy as np\n",
    "import matplotlib.pyplot as plt"
   ]
  },
  {
   "cell_type": "code",
   "execution_count": 111,
   "metadata": {},
   "outputs": [
    {
     "data": {
      "text/plain": [
       "array([[0.85843607, 0.07725124, 0.48809823, 0.45107357, 0.60209158,\n",
       "        0.51075375, 0.72662461, 0.71329905, 0.35166875, 0.20535409],\n",
       "       [0.11503518, 0.90325476, 0.81575505, 0.36214152, 0.01780874,\n",
       "        0.66543028, 0.49601529, 0.36754839, 0.49321732, 0.18993575],\n",
       "       [0.39732441, 0.10853327, 0.64014146, 0.311747  , 0.71898489,\n",
       "        0.01720929, 0.84841974, 0.22682343, 0.95773243, 0.87927992],\n",
       "       [0.89392561, 0.84932747, 0.53408555, 0.11785308, 0.41227045,\n",
       "        0.46945649, 0.77131458, 0.08845997, 0.50175086, 0.9659286 ],\n",
       "       [0.2570941 , 0.52792737, 0.82460403, 0.17693627, 0.53717831,\n",
       "        0.10347237, 0.82720447, 0.61337643, 0.13749784, 0.34988988],\n",
       "       [0.20601928, 0.08688848, 0.1532411 , 0.00838335, 0.18556875,\n",
       "        0.66981666, 0.15955433, 0.63568179, 0.30964706, 0.62896607],\n",
       "       [0.44428803, 0.8506829 , 0.91483413, 0.01783624, 0.86316407,\n",
       "        0.98546424, 0.72963977, 0.59403156, 0.60385327, 0.28059243],\n",
       "       [0.23384699, 0.2073985 , 0.88967738, 0.5777085 , 0.89089912,\n",
       "        0.4215916 , 0.19040879, 0.9518808 , 0.23851714, 0.30373218],\n",
       "       [0.63961576, 0.43738732, 0.40996857, 0.457512  , 0.6091674 ,\n",
       "        0.3191377 , 0.32390932, 0.44965043, 0.21021906, 0.3630224 ],\n",
       "       [0.25409959, 0.52382122, 0.351564  , 0.84065965, 0.83973695,\n",
       "        0.26891675, 0.16314129, 0.42954208, 0.49335002, 0.83328307]])"
      ]
     },
     "execution_count": 111,
     "metadata": {},
     "output_type": "execute_result"
    }
   ],
   "source": [
    "a = np.random.rand(10,10)\n",
    "a"
   ]
  },
  {
   "cell_type": "code",
   "execution_count": 160,
   "metadata": {},
   "outputs": [
    {
     "data": {
      "text/plain": [
       "array([[0, 0, 1, 1, 1, 1, 1, 1, 1, 1],\n",
       "       [0, 1, 1, 1, 1, 1, 1, 1, 1, 1],\n",
       "       [1, 1, 1, 1, 1, 1, 1, 1, 1, 1],\n",
       "       [1, 1, 1, 1, 0, 1, 1, 1, 1, 1],\n",
       "       [1, 0, 1, 1, 1, 1, 1, 1, 1, 1],\n",
       "       [1, 0, 1, 0, 1, 1, 1, 1, 1, 1],\n",
       "       [0, 1, 1, 1, 1, 1, 0, 1, 0, 0],\n",
       "       [1, 1, 1, 0, 1, 1, 1, 1, 1, 1],\n",
       "       [0, 1, 1, 1, 1, 0, 1, 1, 1, 0],\n",
       "       [0, 1, 1, 1, 0, 1, 1, 1, 1, 1]])"
      ]
     },
     "execution_count": 160,
     "metadata": {},
     "output_type": "execute_result"
    },
    {
     "data": {
      "image/png": "[encoded data removed]",
      "text/plain": [
       "<Figure size 432x288 with 1 Axes>"
      ]
     },
     "metadata": {
      "needs_background": "light"
     },
     "output_type": "display_data"
    }
   ],
   "source": [
    "b = (np.random.rand(10,10)<=.8).astype(int)\n",
    "plt.imshow(b, cmap='binary')\n",
    "b"
   ]
  },
  {
   "cell_type": "code",
   "execution_count": 167,
   "metadata": {},
   "outputs": [],
   "source": [
    "b[2,2]=3\n",
    "b[7,5]=3\n",
    "b[2,3]=3"
   ]
  },
  {
   "cell_type": "code",
   "execution_count": 168,
   "metadata": {},
   "outputs": [],
   "source": [
    "G_acnt = np.zeros(b.shape)\n",
    "G_a = (b > 0).astype(int) # zajímají mě jen Influenced        \n",
    "for n in range(1,4):\n",
    "    #kříž\n",
    "    G_acnt[:,n:] += G_a[:,:-n]\n",
    "    G_acnt[:,:-n] += G_a[:,n:]\n",
    "    G_acnt[n:,:] += G_a[:-n,:]\n",
    "    G_acnt[:-n,:] += G_a[n:,:]\n",
    "for n in range(1,4):\n",
    "    for m in range(1,4):\n",
    "    #šikmo\n",
    "        G_acnt[n:,m:] += G_a[:-n,:-m]\n",
    "        G_acnt[n:,:-m] += G_a[:-n,m:]\n",
    "        G_acnt[:-n,:-m] += G_a[n:,m:]\n",
    "        G_acnt[:-n,m:] += G_a[n:,:-m]"
   ]
  },
  {
   "cell_type": "code",
   "execution_count": 169,
   "metadata": {},
   "outputs": [
    {
     "data": {
      "text/plain": [
       "array([[13., 16., 19., 23., 25., 26., 26., 22., 19., 15.],\n",
       "       [16., 19., 24., 29., 31., 33., 33., 28., 24., 19.],\n",
       "       [17., 22., 28., 34., 36., 39., 39., 34., 29., 23.],\n",
       "       [20., 26., 33., 39., 43., 44., 43., 37., 31., 24.],\n",
       "       [21., 28., 34., 40., 42., 43., 42., 37., 31., 24.],\n",
       "       [21., 28., 33., 40., 41., 42., 40., 35., 29., 23.],\n",
       "       [21., 25., 31., 37., 40., 41., 40., 34., 30., 24.],\n",
       "       [16., 21., 26., 32., 34., 35., 33., 29., 24., 19.],\n",
       "       [14., 17., 21., 25., 28., 29., 26., 23., 19., 16.],\n",
       "       [12., 14., 17., 20., 24., 22., 20., 17., 14., 11.]])"
      ]
     },
     "execution_count": 169,
     "metadata": {},
     "output_type": "execute_result"
    }
   ],
   "source": [
    "G_acnt\n"
   ]
  },
  {
   "cell_type": "code",
   "execution_count": 174,
   "metadata": {},
   "outputs": [],
   "source": [
    "tmpG = np.zeros(b.shape)\n",
    "G_I = (b == 3).astype(int) # zajímají mě jen Influenced        \n",
    "for n in range(1,4):\n",
    "    #kříž\n",
    "    tmpG[:,n:] += G_I[:,:-n]\n",
    "    tmpG[:,:-n] += G_I[:,n:]\n",
    "    tmpG[n:,:] += G_I[:-n,:]\n",
    "    tmpG[:-n,:] += G_I[n:,:]\n",
    "\n",
    "    #šikmo\n",
    "    tmpG[n:,n:] += G_I[:-n,:-n]\n",
    "    tmpG[n:,:-n] += G_I[:-n,n:]\n",
    "    tmpG[:-n,:-n] += G_I[n:,n:]\n",
    "    tmpG[:-n,n:] += G_I[n:,:-n]\n",
    "tmpG = tmpG / G_acnt\n",
    "tmpG = np.where(b < 3, tmpG, 0)\n",
    "tmpG = np.where(b > 0, tmpG, 0)"
   ]
  },
  {
   "cell_type": "code",
   "execution_count": 175,
   "metadata": {},
   "outputs": [
    {
     "data": {
      "text/plain": [
       "array([[0.        , 0.        , 0.05263158, 0.04347826, 0.04      ,\n",
       "        0.03846154, 0.        , 0.        , 0.        , 0.        ],\n",
       "       [0.        , 0.05263158, 0.08333333, 0.06896552, 0.03225806,\n",
       "        0.        , 0.        , 0.        , 0.        , 0.        ],\n",
       "       [0.11764706, 0.09090909, 0.        , 0.        , 0.05555556,\n",
       "        0.05128205, 0.02564103, 0.        , 0.        , 0.        ],\n",
       "       [0.        , 0.03846154, 0.06060606, 0.05128205, 0.        ,\n",
       "        0.        , 0.        , 0.        , 0.        , 0.        ],\n",
       "       [0.04761905, 0.        , 0.05882353, 0.025     , 0.02380952,\n",
       "        0.04651163, 0.        , 0.        , 0.03225806, 0.        ],\n",
       "       [0.04761905, 0.        , 0.03030303, 0.        , 0.        ,\n",
       "        0.04761905, 0.025     , 0.02857143, 0.        , 0.        ],\n",
       "       [0.        , 0.        , 0.        , 0.        , 0.025     ,\n",
       "        0.02439024, 0.        , 0.        , 0.        , 0.        ],\n",
       "       [0.        , 0.        , 0.03846154, 0.        , 0.02941176,\n",
       "        0.        , 0.03030303, 0.03448276, 0.04166667, 0.        ],\n",
       "       [0.        , 0.        , 0.        , 0.        , 0.03571429,\n",
       "        0.        , 0.03846154, 0.        , 0.        , 0.        ],\n",
       "       [0.        , 0.        , 0.        , 0.05      , 0.        ,\n",
       "        0.04545455, 0.        , 0.05882353, 0.        , 0.        ]])"
      ]
     },
     "execution_count": 175,
     "metadata": {},
     "output_type": "execute_result"
    }
   ],
   "source": [
    "tmpG"
   ]
  },
  {
   "cell_type": "code",
   "execution_count": 176,
   "metadata": {},
   "outputs": [
    {
     "data": {
      "text/plain": [
       "<matplotlib.image.AxesImage at 0x7faa109aa940>"
      ]
     },
     "execution_count": 176,
     "metadata": {},
     "output_type": "execute_result"
    },
    {
     "data": {
      "image/png": "[encoded data removed]",
      "text/plain": [
       "<Figure size 432x288 with 1 Axes>"
      ]
     },
     "metadata": {
      "needs_background": "light"
     },
     "output_type": "display_data"
    }
   ],
   "source": [
    "plt.imshow(tmpG)"
   ]
  },
  {
   "cell_type": "code",
   "execution_count": 177,
   "metadata": {},
   "outputs": [
    {
     "data": {
      "text/plain": [
       "<matplotlib.image.AxesImage at 0x7faa50477a60>"
      ]
     },
     "execution_count": 177,
     "metadata": {},
     "output_type": "execute_result"
    },
    {
     "data": {
      "image/png": "[encoded data removed]",
      "text/plain": [
       "<Figure size 432x288 with 1 Axes>"
      ]
     },
     "metadata": {
      "needs_background": "light"
     },
     "output_type": "display_data"
    }
   ],
   "source": [
    "plt.imshow(b)"
   ]
  },
  {
   "cell_type": "code",
   "execution_count": 184,
   "metadata": {},
   "outputs": [
    {
     "name": "stdout",
     "output_type": "stream",
     "text": [
      "[[0 0 1 1 1 1 1 1 1 1]\n",
      " [0 1 1 1 1 1 1 1 1 1]\n",
      " [1 1 3 3 1 1 1 1 1 1]\n",
      " [1 1 1 1 0 1 1 1 1 1]\n",
      " [1 0 1 1 1 1 1 1 1 1]\n",
      " [1 0 1 0 1 1 1 1 1 1]\n",
      " [0 1 1 1 1 1 0 1 0 0]\n",
      " [1 1 1 0 1 3 1 1 1 1]\n",
      " [0 1 1 1 1 0 1 1 1 0]\n",
      " [0 1 1 1 0 1 1 1 1 1]]\n",
      "[[0.         0.         0.38123244 0.48833755 0.6590671  0.07216043\n",
      "  0.89494099 0.49646091 0.0602872  0.2555436 ]\n",
      " [0.         0.03586208 0.16427934 0.65623896 0.16316274 0.63660819\n",
      "  0.57432205 0.56868034 0.988811   0.13131085]\n",
      " [0.9569122  0.29686039 0.         0.         0.56925508 0.95664114\n",
      "  0.03177404 0.91624395 0.26640388 0.73689738]\n",
      " [0.56925891 0.61146262 0.15959881 0.07856017 0.         0.29175541\n",
      "  0.09317516 0.20295182 0.0490312  0.91014105]\n",
      " [0.09654778 0.         0.47082383 0.18258246 0.15268653 0.33975067\n",
      "  0.71328923 0.80912253 0.2628891  0.24322302]\n",
      " [0.05343608 0.         0.23314216 0.         0.20875453 0.02961635\n",
      "  0.36379732 0.90063032 0.40827627 0.26398181]\n",
      " [0.         0.06825558 0.61072633 0.54710575 0.86779186 0.81306978\n",
      "  0.         0.14566926 0.         0.        ]\n",
      " [0.57854591 0.8006963  0.70328725 0.         0.85168952 0.\n",
      "  0.60650688 0.48984714 0.31620259 0.00851153]\n",
      " [0.         0.67852303 0.11763486 0.21834788 0.1749077  0.\n",
      "  0.28803125 0.87380386 0.28735164 0.        ]\n",
      " [0.         0.68150152 0.74944289 0.89238052 0.         0.11217036\n",
      "  0.90106383 0.33270805 0.54807347 0.45679708]]\n",
      "[[0.         0.         0.05263158 0.04347826 0.04       0.03846154\n",
      "  0.         0.         0.         0.        ]\n",
      " [0.         0.05263158 0.08333333 0.06896552 0.03225806 0.\n",
      "  0.         0.         0.         0.        ]\n",
      " [0.11764706 0.09090909 0.         0.         0.05555556 0.05128205\n",
      "  0.02564103 0.         0.         0.        ]\n",
      " [0.         0.03846154 0.06060606 0.05128205 0.         0.\n",
      "  0.         0.         0.         0.        ]\n",
      " [0.04761905 0.         0.05882353 0.025      0.02380952 0.04651163\n",
      "  0.         0.         0.03225806 0.        ]\n",
      " [0.04761905 0.         0.03030303 0.         0.         0.04761905\n",
      "  0.025      0.02857143 0.         0.        ]\n",
      " [0.         0.         0.         0.         0.025      0.02439024\n",
      "  0.         0.         0.         0.        ]\n",
      " [0.         0.         0.03846154 0.         0.02941176 0.\n",
      "  0.03030303 0.03448276 0.04166667 0.        ]\n",
      " [0.         0.         0.         0.         0.03571429 0.\n",
      "  0.03846154 0.         0.         0.        ]\n",
      " [0.         0.         0.         0.05       0.         0.04545455\n",
      "  0.         0.05882353 0.         0.        ]]\n"
     ]
    }
   ],
   "source": [
    "#treshold\n",
    "T = np.where(b == 1, np.random.rand(10,10), 0)\n",
    "print(b)\n",
    "print(T)\n",
    "print(tmpG)"
   ]
  },
  {
   "cell_type": "code",
   "execution_count": 198,
   "metadata": {},
   "outputs": [
    {
     "data": {
      "text/plain": [
       "array([[0., 0., 1., 1., 1., 1., 1., 1., 1., 1.],\n",
       "       [0., 1., 1., 1., 1., 1., 1., 1., 1., 1.],\n",
       "       [1., 1., 0., 0., 1., 1., 1., 1., 1., 1.],\n",
       "       [1., 1., 1., 1., 0., 1., 1., 1., 1., 1.],\n",
       "       [1., 0., 1., 1., 1., 1., 1., 1., 1., 1.],\n",
       "       [1., 0., 1., 0., 1., 1., 1., 1., 1., 1.],\n",
       "       [0., 1., 1., 1., 1., 1., 0., 1., 0., 0.],\n",
       "       [1., 1., 1., 0., 1., 0., 1., 1., 1., 1.],\n",
       "       [0., 1., 1., 1., 1., 0., 1., 1., 1., 0.],\n",
       "       [0., 1., 1., 1., 0., 1., 1., 1., 1., 1.]])"
      ]
     },
     "execution_count": 198,
     "metadata": {},
     "output_type": "execute_result"
    }
   ],
   "source": [
    "#susceptible --> Influenced \n",
    "np.ceil(np.where(b==1, T, 0))#.astype(int)"
   ]
  },
  {
   "cell_type": "code",
   "execution_count": 133,
   "metadata": {},
   "outputs": [
    {
     "data": {
      "text/plain": [
       "array([0, 1, 2, 3, 4, 5])"
      ]
     },
     "execution_count": 133,
     "metadata": {},
     "output_type": "execute_result"
    }
   ],
   "source": [
    "aa"
   ]
  },
  {
   "cell_type": "code",
   "execution_count": 139,
   "metadata": {},
   "outputs": [
    {
     "data": {
      "text/plain": [
       "array([1, 2, 3, 4])"
      ]
     },
     "execution_count": 139,
     "metadata": {},
     "output_type": "execute_result"
    }
   ],
   "source": [
    "aa[1:-1]"
   ]
  },
  {
   "cell_type": "code",
   "execution_count": 190,
   "metadata": {},
   "outputs": [
    {
     "data": {
      "text/plain": [
       "array([[0., 0., 0., 0., 0., 0., 0., 0., 0., 0.],\n",
       "       [0., 0., 0., 0., 0., 0., 0., 0., 0., 0.],\n",
       "       [0., 0., 0., 0., 0., 0., 0., 0., 0., 0.],\n",
       "       [0., 0., 0., 0., 0., 0., 0., 0., 0., 0.],\n",
       "       [0., 0., 0., 0., 0., 0., 0., 0., 0., 0.],\n",
       "       [0., 0., 0., 0., 0., 0., 0., 0., 0., 0.],\n",
       "       [0., 0., 0., 0., 0., 0., 0., 0., 0., 0.],\n",
       "       [0., 0., 0., 0., 0., 0., 0., 0., 0., 0.],\n",
       "       [0., 0., 0., 0., 0., 0., 0., 0., 0., 0.],\n",
       "       [0., 0., 0., 0., 0., 0., 0., 0., 0., 0.]])"
      ]
     },
     "execution_count": 190,
     "metadata": {},
     "output_type": "execute_result"
    }
   ],
   "source": [
    "np.where(b==2,T,0)"
   ]
  },
  {
   "cell_type": "code",
   "execution_count": 244,
   "metadata": {},
   "outputs": [],
   "source": [
    "aaa = np.random.normal(.2,.1,1000)\n",
    "aaa = np.where(aaa>=0,aaa,0)\n",
    "aaa = np.where(aaa<=1,aaa,1)"
   ]
  },
  {
   "cell_type": "code",
   "execution_count": 245,
   "metadata": {},
   "outputs": [
    {
     "data": {
      "text/plain": [
       "array([2.20231230e-01, 9.77975124e-02, 3.45727282e-01, 1.80432916e-01,\n",
       "       1.74315787e-01, 2.04370055e-01, 2.76767036e-02, 1.13683874e-01,\n",
       "       1.47981383e-01, 2.99907989e-02, 2.67649016e-01, 3.59221763e-01,\n",
       "       2.13412356e-01, 1.68059074e-01, 1.04658158e-01, 3.19567714e-01,\n",
       "       2.35170961e-01, 4.07268951e-01, 3.62920438e-01, 3.02092271e-01,\n",
       "       2.24866503e-01, 1.77290461e-01, 2.98666175e-01, 1.42444924e-01,\n",
       "       1.64617230e-01, 2.06621643e-01, 3.88997783e-01, 2.01327512e-01,\n",
       "       2.60829193e-01, 2.54287941e-01, 1.58535444e-01, 2.90881954e-01,\n",
       "       3.41877508e-01, 1.87296320e-01, 4.06570026e-01, 3.21755954e-01,\n",
       "       2.64079221e-01, 2.63185938e-01, 1.89804923e-01, 2.48992741e-01,\n",
       "       2.06643473e-01, 1.13374322e-01, 2.49399029e-01, 1.80091529e-01,\n",
       "       2.04422231e-02, 4.43138322e-01, 2.50065358e-01, 3.12965979e-02,\n",
       "       1.31920753e-01, 2.33707777e-01, 1.58936216e-01, 9.08251318e-02,\n",
       "       2.10875278e-01, 1.86179303e-01, 5.39784083e-02, 1.84049269e-01,\n",
       "       0.00000000e+00, 3.48302573e-01, 6.99757562e-02, 2.47825355e-01,\n",
       "       1.83806479e-01, 3.28138418e-01, 1.10458338e-01, 1.97609653e-01,\n",
       "       1.93720210e-01, 3.06964890e-01, 1.36054669e-01, 1.22534286e-01,\n",
       "       1.30468735e-01, 1.65721067e-01, 3.72049764e-01, 2.31461756e-01,\n",
       "       2.85310650e-03, 3.47965211e-01, 9.49903781e-02, 2.51353874e-01,\n",
       "       2.18850559e-01, 1.32724688e-01, 1.86691166e-01, 2.02963597e-01,\n",
       "       2.51036768e-01, 1.93586947e-01, 1.08559461e-01, 1.37235578e-04,\n",
       "       1.84408161e-01, 1.35381301e-01, 2.44653157e-01, 1.44572217e-01,\n",
       "       1.21383681e-01, 1.38606748e-01, 1.19524030e-01, 2.37236305e-01,\n",
       "       4.63056544e-03, 2.46215820e-01, 1.31836203e-01, 2.43634659e-01,\n",
       "       9.66342938e-02, 1.50193753e-01, 1.68666768e-01, 1.82559135e-01,\n",
       "       6.13354613e-02, 1.97597247e-01, 8.42730733e-02, 2.11634310e-01,\n",
       "       1.16157396e-01, 1.89764048e-01, 1.50632459e-01, 8.97525475e-02,\n",
       "       2.31209670e-01, 1.64384952e-01, 1.88357317e-01, 3.06996636e-01,\n",
       "       3.37368345e-01, 3.03408281e-01, 2.49256283e-01, 1.80348923e-01,\n",
       "       3.13642077e-01, 1.09396940e-01, 1.16165780e-01, 1.87835368e-01,\n",
       "       2.20809995e-01, 2.36052589e-01, 2.37741583e-01, 1.38713370e-01,\n",
       "       4.26121083e-01, 1.60757686e-01, 7.79233809e-02, 1.32581080e-01,\n",
       "       2.30997286e-01, 1.91760688e-01, 3.53126908e-01, 2.56262905e-01,\n",
       "       1.69419591e-01, 3.36774837e-01, 1.97463054e-01, 3.10772845e-01,\n",
       "       2.20347853e-01, 6.01005614e-03, 1.85420486e-01, 2.31463119e-01,\n",
       "       6.21715428e-02, 2.73577990e-01, 1.59416526e-02, 3.58375362e-01,\n",
       "       1.84716962e-01, 1.96206705e-01, 2.15007644e-01, 9.21006074e-02,\n",
       "       2.32643457e-01, 1.85970750e-01, 2.97261654e-01, 1.09525233e-01,\n",
       "       2.14446811e-01, 1.80263849e-01, 2.41731864e-01, 1.41710900e-01,\n",
       "       1.31670125e-01, 2.01588091e-01, 1.34533039e-01, 1.59422130e-02,\n",
       "       1.76470776e-01, 3.68039337e-01, 1.22809100e-01, 2.13564473e-01,\n",
       "       2.67900515e-01, 8.56654278e-02, 3.24746635e-01, 8.58274536e-02,\n",
       "       1.87511896e-01, 1.56176119e-01, 1.70369115e-01, 1.39387957e-01,\n",
       "       3.48492835e-01, 2.05431247e-01, 2.51697985e-01, 2.14123580e-01,\n",
       "       1.33765909e-01, 2.02036675e-01, 1.07849388e-01, 2.09897972e-01,\n",
       "       2.52360759e-01, 2.51864524e-01, 3.53449376e-01, 0.00000000e+00,\n",
       "       2.41142786e-01, 1.21372589e-01, 5.43736295e-02, 3.26238537e-01,\n",
       "       2.59434603e-01, 1.51918425e-01, 2.58875895e-01, 1.92712956e-01,\n",
       "       3.81155378e-02, 2.04143497e-01, 2.18186632e-01, 0.00000000e+00,\n",
       "       2.22418495e-01, 2.86290774e-01, 3.08841044e-01, 1.85969943e-01,\n",
       "       4.01141498e-01, 2.63836193e-01, 3.13432548e-01, 1.59526827e-01,\n",
       "       3.03703207e-01, 1.67730888e-01, 1.44653585e-01, 2.41760197e-01,\n",
       "       1.26632250e-01, 2.33083078e-01, 2.82565439e-01, 2.86609734e-02,\n",
       "       2.72353510e-01, 2.43500153e-01, 1.82333225e-01, 2.63057558e-01,\n",
       "       1.40517476e-01, 0.00000000e+00, 3.11986779e-01, 3.39815128e-01,\n",
       "       2.99198412e-01, 3.35585725e-01, 9.29672702e-02, 1.29071815e-01,\n",
       "       2.15519371e-01, 1.66188453e-01, 1.85407806e-01, 3.09496596e-01,\n",
       "       4.17868400e-02, 1.84830526e-01, 2.86257432e-01, 1.77107516e-01,\n",
       "       2.57545459e-01, 1.30360791e-01, 7.05719220e-02, 2.78864872e-01,\n",
       "       4.16363446e-02, 2.72780844e-01, 2.44757305e-01, 2.07450868e-01,\n",
       "       3.66680407e-01, 2.41202765e-01, 2.95873758e-01, 2.71526727e-01,\n",
       "       1.14167469e-01, 6.10926563e-02, 1.46344116e-01, 1.83818364e-01,\n",
       "       2.59354877e-01, 3.99171932e-01, 1.37719536e-01, 1.04013810e-01,\n",
       "       8.19317316e-02, 7.33057197e-02, 1.02135956e-01, 1.24629541e-01,\n",
       "       2.60385676e-01, 2.50567627e-01, 2.73453504e-01, 3.43309817e-01,\n",
       "       0.00000000e+00, 3.00092187e-01, 1.40049759e-01, 2.35843653e-01,\n",
       "       1.22559029e-01, 2.16129391e-01, 1.57195753e-01, 2.35719114e-01,\n",
       "       9.17253153e-02, 1.61640525e-01, 1.94642763e-01, 4.68202337e-02,\n",
       "       1.59742387e-01, 4.47641946e-01, 3.91490834e-01, 3.56155909e-01,\n",
       "       2.90853671e-01, 6.25699500e-02, 9.51631461e-02, 2.06553994e-01,\n",
       "       1.24679159e-01, 1.25855536e-01, 3.56132010e-01, 2.10536184e-01,\n",
       "       0.00000000e+00, 4.40933607e-02, 3.04169184e-01, 4.21877234e-01,\n",
       "       1.80726262e-01, 8.20358414e-02, 5.80710035e-02, 2.31775733e-01,\n",
       "       7.00301369e-02, 2.94883605e-01, 1.50981236e-01, 1.36983975e-01,\n",
       "       1.17198402e-01, 2.56536034e-01, 9.25618507e-02, 2.79231879e-01,\n",
       "       1.44662638e-01, 1.14525639e-01, 2.40125291e-01, 0.00000000e+00,\n",
       "       1.27480036e-01, 9.03656272e-02, 1.97408641e-01, 2.01574352e-01,\n",
       "       4.98902047e-01, 2.12199886e-01, 7.38280885e-02, 2.09399254e-01,\n",
       "       1.71468817e-01, 2.97157493e-01, 2.19517389e-01, 1.98520861e-01,\n",
       "       2.70368540e-01, 1.71615617e-01, 2.86964702e-01, 2.75425715e-01,\n",
       "       2.85339543e-01, 1.94712140e-01, 1.53025557e-01, 2.39024728e-01,\n",
       "       2.48247229e-01, 1.60809949e-01, 2.07771114e-01, 0.00000000e+00,\n",
       "       1.12739444e-01, 2.54902365e-01, 1.57948905e-01, 2.65002585e-01,\n",
       "       2.35914090e-01, 2.58737829e-01, 2.71475555e-02, 1.47968761e-01,\n",
       "       1.75215380e-01, 2.72003078e-01, 1.42603158e-01, 3.56408676e-01,\n",
       "       2.53537369e-01, 1.32886930e-01, 2.46224130e-01, 2.05752077e-01,\n",
       "       2.19683912e-01, 2.47255169e-01, 2.34769509e-01, 2.43823551e-01,\n",
       "       1.79940291e-01, 1.44061315e-01, 2.36729373e-01, 1.64308008e-01,\n",
       "       9.39886730e-02, 2.37556133e-01, 3.34013812e-01, 3.27336048e-01,\n",
       "       3.72835582e-01, 3.85955749e-02, 2.02324435e-01, 4.14272249e-02,\n",
       "       2.62166872e-01, 2.17126008e-01, 1.89141063e-01, 1.89976497e-01,\n",
       "       2.39719281e-01, 2.68241952e-01, 1.32876725e-01, 2.60962826e-01,\n",
       "       8.09177274e-02, 1.28926744e-01, 3.18926802e-01, 2.58435495e-01,\n",
       "       1.83447626e-01, 9.60956152e-02, 2.20146527e-01, 2.33027072e-01,\n",
       "       2.80838338e-01, 3.69847729e-01, 2.29742276e-01, 1.43812384e-01,\n",
       "       2.26991156e-01, 1.91727353e-01, 2.03925582e-01, 0.00000000e+00,\n",
       "       1.70698727e-01, 7.73957400e-02, 2.00345441e-01, 3.15316456e-01,\n",
       "       3.00829176e-01, 1.09241414e-01, 2.54034392e-01, 2.43228592e-01,\n",
       "       2.02222135e-01, 2.74087057e-01, 1.55809330e-01, 2.07286686e-01,\n",
       "       2.85677209e-01, 1.14988444e-01, 1.53321964e-01, 1.33121585e-01,\n",
       "       1.25431458e-01, 4.00998827e-01, 2.91086589e-01, 2.22688565e-01,\n",
       "       2.88542652e-01, 1.82151721e-01, 3.90124483e-01, 3.35547450e-01,\n",
       "       2.34891421e-01, 1.49712776e-02, 2.20457316e-01, 1.20157036e-01,\n",
       "       1.26185475e-01, 2.80868315e-01, 2.24147766e-01, 3.47941200e-02,\n",
       "       3.36828697e-01, 2.04562504e-01, 8.06339191e-02, 2.42145496e-01,\n",
       "       3.29121160e-01, 1.99940795e-01, 2.86211929e-01, 3.08907001e-01,\n",
       "       1.91382544e-01, 3.66125760e-01, 1.75243270e-01, 1.49738122e-01,\n",
       "       8.97807956e-02, 1.54808231e-01, 1.81823778e-01, 2.01640894e-01,\n",
       "       2.40798658e-01, 2.65126467e-01, 4.84877349e-02, 2.69386467e-01,\n",
       "       2.32017952e-01, 2.11855378e-01, 7.17409553e-02, 5.42209227e-02,\n",
       "       2.45719375e-01, 2.77223578e-01, 1.28637333e-01, 2.15491467e-01,\n",
       "       2.49499874e-01, 6.18935742e-02, 2.36655269e-01, 2.05382999e-01,\n",
       "       1.31248088e-01, 3.02421205e-01, 2.24429968e-01, 1.75099844e-01,\n",
       "       2.58099138e-01, 6.66951429e-02, 1.83327594e-01, 1.29275110e-01,\n",
       "       1.83007030e-01, 1.70953424e-01, 1.08228759e-01, 2.67156655e-01,\n",
       "       2.17542809e-01, 6.13512594e-02, 1.14954019e-01, 2.74100887e-01,\n",
       "       2.73247865e-01, 1.74675462e-02, 2.84286587e-02, 3.27923466e-01,\n",
       "       2.73523217e-01, 1.48829675e-01, 6.92722335e-02, 3.41172713e-01,\n",
       "       7.31725646e-02, 9.16412029e-02, 1.66676099e-01, 9.25807307e-02,\n",
       "       6.25562631e-02, 1.62655653e-01, 2.46337933e-01, 9.34043875e-02,\n",
       "       2.39489945e-01, 2.96729188e-01, 1.24949099e-01, 2.90653054e-01,\n",
       "       3.26800867e-01, 1.52109036e-01, 3.72401432e-01, 1.42135226e-01,\n",
       "       3.77661758e-01, 8.55338127e-02, 5.44133840e-02, 2.82742965e-01,\n",
       "       1.76495046e-01, 1.54354428e-01, 1.33062077e-02, 8.17170582e-02,\n",
       "       2.26818598e-01, 1.69244079e-01, 2.16520211e-01, 1.72176901e-01,\n",
       "       2.96651880e-01, 5.85369593e-02, 1.58249359e-01, 1.49860426e-01,\n",
       "       1.80965462e-01, 4.75563661e-01, 2.54193812e-01, 6.17755029e-02,\n",
       "       1.66819402e-01, 3.75963588e-01, 3.23294061e-01, 1.14867926e-01,\n",
       "       3.02051324e-01, 3.02497410e-01, 3.02368421e-01, 2.05206066e-01,\n",
       "       1.95357238e-01, 2.22529662e-01, 1.66505763e-01, 9.48257359e-02,\n",
       "       1.70085919e-01, 6.85957212e-02, 1.50142561e-01, 2.49875130e-01,\n",
       "       3.80374374e-01, 2.19982067e-01, 2.43507095e-01, 2.29674889e-01,\n",
       "       1.28392391e-01, 2.53155677e-01, 6.56304917e-02, 2.00677706e-01,\n",
       "       2.43966472e-01, 3.51945858e-01, 1.35530709e-01, 3.18611272e-01,\n",
       "       2.02185604e-01, 2.18505295e-01, 3.48830799e-01, 9.78360866e-02,\n",
       "       2.68869325e-01, 3.03731738e-01, 1.66489521e-01, 2.76515242e-01,\n",
       "       2.20887952e-01, 4.11460099e-01, 7.34972158e-02, 1.96657765e-01,\n",
       "       2.27375542e-01, 2.88235707e-01, 1.94141209e-01, 1.00131990e-01,\n",
       "       2.12534118e-01, 3.40191269e-01, 2.45873335e-01, 1.84857806e-01,\n",
       "       1.86822032e-01, 1.71973465e-01, 2.63595518e-01, 3.21147361e-01,\n",
       "       3.78259647e-01, 1.06280153e-01, 2.74192799e-01, 2.26427191e-01,\n",
       "       3.29672936e-01, 2.03179785e-01, 2.90373261e-01, 1.83653993e-01,\n",
       "       2.52588169e-01, 7.77533994e-02, 1.60603547e-01, 4.33043902e-01,\n",
       "       2.29169387e-01, 1.76938968e-01, 3.17387677e-01, 2.68263401e-01,\n",
       "       3.51348779e-01, 1.69819087e-01, 1.89357888e-01, 0.00000000e+00,\n",
       "       1.01804528e-01, 5.17435033e-02, 2.45499391e-01, 2.27658686e-01,\n",
       "       2.76618122e-01, 1.08674975e-01, 1.77554885e-01, 1.72261527e-01,\n",
       "       1.46887436e-01, 3.38492716e-01, 3.21249323e-01, 2.33161459e-01,\n",
       "       3.73124294e-02, 2.38426571e-01, 3.51171560e-01, 1.35106025e-01,\n",
       "       2.10016205e-01, 3.86023531e-01, 7.90601459e-02, 3.04241324e-01,\n",
       "       3.15470244e-01, 1.42010024e-01, 1.59450338e-01, 2.68879737e-01,\n",
       "       2.94196036e-01, 2.66355860e-01, 1.09765645e-01, 2.24451970e-01,\n",
       "       8.84101617e-02, 6.88113979e-02, 2.81629879e-01, 6.05075226e-02,\n",
       "       1.85707705e-01, 1.81454790e-01, 1.89086985e-01, 2.33291548e-01,\n",
       "       8.70083335e-02, 3.19455565e-01, 1.20093975e-01, 9.15815442e-02,\n",
       "       1.77817711e-01, 2.82257202e-01, 9.17129629e-02, 4.39748326e-01,\n",
       "       2.01691765e-01, 2.24654462e-01, 3.28090184e-01, 9.48035207e-02,\n",
       "       2.97016369e-01, 1.27075260e-02, 2.11112851e-01, 2.77575909e-02,\n",
       "       2.70032800e-01, 2.20514079e-01, 1.05099562e-01, 2.61832649e-01,\n",
       "       4.70902424e-02, 0.00000000e+00, 2.36143454e-01, 1.91007971e-01,\n",
       "       2.69292060e-01, 2.40644908e-01, 2.33300418e-01, 3.26479437e-01,\n",
       "       7.30621547e-02, 2.19679581e-01, 1.13314336e-01, 2.43632516e-01,\n",
       "       8.12630768e-02, 8.29930223e-02, 6.59072519e-02, 2.42214527e-01,\n",
       "       1.85287110e-01, 2.46115816e-01, 5.08421023e-02, 1.00167076e-01,\n",
       "       1.50783894e-01, 3.06668644e-01, 8.55931169e-02, 2.78921888e-01,\n",
       "       1.57514601e-01, 2.62059606e-01, 2.09210647e-01, 2.72002848e-01,\n",
       "       2.00787523e-01, 1.05330072e-01, 1.28556533e-01, 7.18011010e-02,\n",
       "       2.76561406e-01, 2.19881593e-01, 2.31843509e-01, 1.82112468e-01,\n",
       "       2.15256743e-01, 4.57130268e-02, 2.66191103e-01, 0.00000000e+00,\n",
       "       2.51542092e-01, 2.65655845e-02, 3.54811466e-01, 2.43412894e-01,\n",
       "       1.55151869e-01, 3.12837208e-01, 1.31892279e-01, 2.14838425e-01,\n",
       "       2.44491819e-01, 6.11929468e-02, 1.72195481e-01, 3.05235890e-01,\n",
       "       1.97232705e-01, 3.36316801e-01, 2.50819655e-01, 1.76010645e-01,\n",
       "       2.49614445e-01, 5.75071838e-02, 2.83767631e-01, 1.46670661e-01,\n",
       "       1.39194107e-01, 2.54481078e-01, 3.71152506e-01, 2.57361225e-01,\n",
       "       2.79340723e-01, 2.34291137e-01, 9.55242305e-02, 2.74090851e-01,\n",
       "       3.05898697e-01, 3.41220632e-01, 3.21649805e-01, 3.83997628e-01,\n",
       "       2.80680114e-01, 2.32134132e-01, 1.59875202e-01, 2.21701304e-01,\n",
       "       2.14248262e-01, 1.75051938e-01, 2.91137663e-01, 1.25801093e-01,\n",
       "       3.40223073e-02, 3.47094041e-01, 1.08085522e-01, 8.53190993e-02,\n",
       "       2.96158206e-01, 2.72785017e-01, 1.47653714e-01, 1.60341152e-01,\n",
       "       1.09205759e-01, 1.54340447e-01, 1.98208927e-01, 1.23672130e-01,\n",
       "       1.15163456e-01, 1.81597722e-01, 7.32312977e-02, 2.03088169e-01,\n",
       "       1.49513620e-01, 2.32027014e-01, 1.71205004e-01, 4.03375149e-01,\n",
       "       2.32869654e-01, 2.38933032e-01, 1.55536065e-01, 1.43980871e-01,\n",
       "       1.87197542e-01, 2.73643043e-01, 3.27419238e-01, 2.36827057e-01,\n",
       "       3.54208737e-01, 1.03801103e-01, 1.47433776e-01, 2.04538371e-01,\n",
       "       1.98952390e-01, 2.89609265e-01, 2.28807307e-02, 8.61132432e-02,\n",
       "       2.19376861e-01, 2.34077923e-01, 2.25638440e-01, 2.39282960e-01,\n",
       "       3.73427976e-01, 2.86599468e-01, 1.34015116e-01, 2.35099052e-01,\n",
       "       4.42227568e-02, 1.12002149e-01, 2.96305538e-01, 1.83157961e-01,\n",
       "       1.36460409e-01, 2.32580366e-01, 1.72453262e-01, 8.72458569e-02,\n",
       "       3.02681595e-01, 2.41251235e-01, 3.00034088e-01, 2.20197521e-01,\n",
       "       2.08671326e-01, 2.04976082e-01, 1.40643379e-01, 2.22074656e-01,\n",
       "       3.51858745e-01, 2.27425560e-01, 1.95677990e-01, 2.23444930e-01,\n",
       "       1.11746390e-01, 2.49520031e-01, 2.57489866e-01, 3.19867440e-01,\n",
       "       0.00000000e+00, 1.21457050e-01, 2.47228549e-01, 2.66290986e-01,\n",
       "       0.00000000e+00, 2.21145248e-01, 2.38275027e-01, 2.62392098e-01,\n",
       "       1.34696094e-01, 6.70251701e-02, 3.24979089e-01, 3.09307747e-01,\n",
       "       6.39210852e-02, 2.46110186e-01, 2.64090427e-01, 2.12974515e-01,\n",
       "       1.01728956e-01, 3.09325726e-01, 1.61483477e-01, 3.18421099e-01,\n",
       "       3.90673550e-02, 7.00256971e-02, 3.19555127e-01, 9.85976743e-02,\n",
       "       2.72857718e-01, 4.14021223e-01, 2.81299344e-01, 3.50967628e-02,\n",
       "       1.12240214e-01, 2.03893683e-01, 1.43873719e-01, 3.37593844e-01,\n",
       "       9.74295072e-02, 1.52772611e-01, 1.42197335e-01, 3.17602630e-01,\n",
       "       1.56935613e-01, 1.91621965e-01, 3.07201871e-01, 2.68983937e-01,\n",
       "       4.49257343e-02, 5.04412385e-02, 2.62481195e-01, 4.56220072e-01,\n",
       "       2.04894201e-01, 1.83818757e-01, 3.22630080e-01, 4.07880403e-01,\n",
       "       2.42919661e-01, 9.70343802e-02, 4.17369916e-01, 2.67863565e-01,\n",
       "       2.24551604e-01, 1.66804477e-01, 8.29075110e-02, 2.64430267e-01,\n",
       "       1.18238869e-01, 1.80525030e-01, 2.27780171e-01, 5.43073335e-02,\n",
       "       1.66265559e-01, 2.02661382e-01, 1.89360070e-01, 1.64514576e-01,\n",
       "       2.03204500e-01, 1.26522215e-01, 9.38310459e-02, 2.62790364e-01,\n",
       "       2.17049351e-01, 1.63270587e-01, 0.00000000e+00, 2.40616124e-01,\n",
       "       1.91871231e-01, 2.15195417e-01, 3.01594655e-01, 1.01260933e-02,\n",
       "       2.84038102e-01, 1.13332918e-01, 7.36895571e-02, 3.30603865e-01,\n",
       "       1.04034535e-01, 2.41766373e-01, 1.45995812e-01, 1.11959037e-01,\n",
       "       1.55230654e-01, 2.77191655e-01, 3.43787280e-01, 1.53648586e-01,\n",
       "       2.99034026e-01, 2.19068317e-01, 8.88321290e-02, 3.31589845e-01,\n",
       "       3.54155112e-01, 2.66770071e-01, 7.76625312e-02, 2.26394950e-01,\n",
       "       2.26951348e-01, 1.49647774e-01, 1.10694327e-01, 1.96517361e-01,\n",
       "       9.71421127e-02, 1.97368516e-01, 5.85660005e-03, 6.84337937e-02,\n",
       "       1.73093372e-01, 2.80188953e-01, 2.35858476e-01, 1.29417120e-01,\n",
       "       3.07746469e-01, 2.47150472e-01, 1.99591190e-01, 2.69108335e-01,\n",
       "       3.97163728e-01, 3.08195007e-01, 2.67857006e-01, 1.92096287e-01,\n",
       "       2.59370384e-01, 1.45538366e-01, 2.45692788e-01, 7.30594417e-02,\n",
       "       2.24368626e-01, 3.22331636e-01, 1.22817320e-01, 1.65374066e-01,\n",
       "       2.76445300e-01, 1.13198258e-01, 2.01190498e-01, 1.57838234e-01,\n",
       "       2.81330332e-01, 2.49080963e-01, 1.68758885e-01, 8.61142349e-02,\n",
       "       2.39395611e-01, 8.44475522e-02, 0.00000000e+00, 1.58103333e-01,\n",
       "       1.53977247e-01, 8.69577276e-02, 1.70435984e-01, 2.27426323e-01,\n",
       "       1.56821826e-01, 3.49258124e-01, 1.98644900e-01, 5.40030589e-02,\n",
       "       1.69324667e-01, 1.76686605e-01, 2.48018504e-01, 0.00000000e+00,\n",
       "       1.74681579e-01, 2.16922650e-01, 1.30134796e-01, 1.09786610e-01,\n",
       "       9.47754068e-02, 1.45912183e-01, 3.35436109e-01, 0.00000000e+00,\n",
       "       2.82308923e-01, 2.83721896e-01, 3.06055342e-01, 1.43370652e-01,\n",
       "       2.61261250e-01, 2.13374679e-01, 2.36820655e-01, 2.41667361e-01,\n",
       "       1.44891154e-01, 1.23479700e-01, 3.18959014e-01, 2.54415211e-01,\n",
       "       3.09375441e-01, 1.15813954e-01, 3.09862051e-01, 0.00000000e+00,\n",
       "       1.07723675e-02, 1.74096267e-01, 2.46091033e-01, 3.35705575e-01,\n",
       "       8.43332223e-02, 2.50603046e-01, 2.22432974e-01, 3.63332318e-01,\n",
       "       1.21252188e-01, 7.47582915e-02, 1.00181316e-01, 3.79027961e-01,\n",
       "       2.86787510e-01, 2.44376915e-01, 2.01832358e-01, 1.08493494e-01,\n",
       "       3.33331473e-01, 1.11439004e-01, 1.06556732e-01, 1.28488441e-01,\n",
       "       1.64072283e-01, 3.30285554e-01, 2.05078958e-01, 6.56469433e-02,\n",
       "       1.51889129e-01, 3.09703380e-01, 1.14179626e-01, 2.29567107e-01,\n",
       "       9.58981135e-03, 9.96576564e-02, 1.48203880e-01, 9.81409287e-02,\n",
       "       1.87769283e-01, 1.43032433e-01, 1.78987864e-01, 1.22834900e-01,\n",
       "       2.94736231e-01, 2.49338311e-01, 0.00000000e+00, 1.12760951e-01,\n",
       "       2.50525203e-01, 1.25680643e-01, 2.86894735e-01, 1.12073520e-01])"
      ]
     },
     "execution_count": 245,
     "metadata": {},
     "output_type": "execute_result"
    }
   ],
   "source": [
    "aaa"
   ]
  },
  {
   "cell_type": "code",
   "execution_count": 246,
   "metadata": {},
   "outputs": [
    {
     "data": {
      "text/plain": [
       "(array([ 61., 106., 147., 176., 211., 147.,  96.,  37.,  16.,   3.]),\n",
       " array([0.        , 0.0498902 , 0.09978041, 0.14967061, 0.19956082,\n",
       "        0.24945102, 0.29934123, 0.34923143, 0.39912164, 0.44901184,\n",
       "        0.49890205]),\n",
       " <BarContainer object of 10 artists>)"
      ]
     },
     "execution_count": 246,
     "metadata": {},
     "output_type": "execute_result"
    },
    {
     "data": {
      "image/png": "[encoded data removed]",
      "text/plain": [
       "<Figure size 432x288 with 1 Axes>"
      ]
     },
     "metadata": {
      "needs_background": "light"
     },
     "output_type": "display_data"
    }
   ],
   "source": [
    "plt.hist(aaa)"
   ]
  },
  {
   "cell_type": "code",
   "execution_count": 247,
   "metadata": {},
   "outputs": [
    {
     "data": {
      "text/plain": [
       "0.19872414036313915"
      ]
     },
     "execution_count": 247,
     "metadata": {},
     "output_type": "execute_result"
    }
   ],
   "source": [
    "np.mean(aaa)"
   ]
  },
  {
   "cell_type": "code",
   "execution_count": 248,
   "metadata": {},
   "outputs": [
    {
     "data": {
      "text/plain": [
       "0.19872414036313915"
      ]
     },
     "execution_count": 248,
     "metadata": {},
     "output_type": "execute_result"
    }
   ],
   "source": [
    "np.average(aaa)"
   ]
  },
  {
   "cell_type": "code",
   "execution_count": 249,
   "metadata": {},
   "outputs": [
    {
     "data": {
      "text/plain": [
       "0.1"
      ]
     },
     "execution_count": 249,
     "metadata": {},
     "output_type": "execute_result"
    }
   ],
   "source": [
    "bbb = (.2,.1)\n",
    "bbb[1]"
   ]
  },
  {
   "cell_type": "code",
   "execution_count": 259,
   "metadata": {},
   "outputs": [],
   "source": [
    "ic = [(1,2,3),(3,4,5),(8,7,6)]\n"
   ]
  },
  {
   "cell_type": "code",
   "execution_count": 252,
   "metadata": {},
   "outputs": [],
   "source": [
    "if not(ic):\n",
    "    print('ahoj')"
   ]
  },
  {
   "cell_type": "code",
   "execution_count": 261,
   "metadata": {},
   "outputs": [
    {
     "name": "stdout",
     "output_type": "stream",
     "text": [
      "4\n",
      "6\n",
      "7\n"
     ]
    }
   ],
   "source": [
    "for i in ic:\n",
    "    print(i[2]+1)"
   ]
  },
  {
   "cell_type": "code",
   "execution_count": 257,
   "metadata": {},
   "outputs": [
    {
     "name": "stdout",
     "output_type": "stream",
     "text": [
      "a\n"
     ]
    }
   ],
   "source": [
    "for i in range(1):\n",
    "    print('a')"
   ]
  },
  {
   "cell_type": "code",
   "execution_count": 258,
   "metadata": {},
   "outputs": [
    {
     "name": "stdout",
     "output_type": "stream",
     "text": [
      "a\n"
     ]
    }
   ],
   "source": [
    "ic = False\n",
    "if not(ic):\n",
    "    print('a')"
   ]
  },
  {
   "cell_type": "code",
   "execution_count": 267,
   "metadata": {},
   "outputs": [],
   "source": [
    "import numpy as np\n",
    "import ipywidgets as widgets\n",
    "from abm import wom\n",
    "\n",
    "model1 = wom(agents=.8, threshold=(.20,.1), net_dim=30)\n",
    "model1.simulate(iters = 100)"
   ]
  },
  {
   "cell_type": "code",
   "execution_count": 269,
   "metadata": {},
   "outputs": [
    {
     "data": {
      "text/plain": [
       "444"
      ]
     },
     "execution_count": 269,
     "metadata": {},
     "output_type": "execute_result"
    }
   ],
   "source": [
    "np.count_nonzero(model1.sim[-1]==3)"
   ]
  },
  {
   "cell_type": "code",
   "execution_count": 271,
   "metadata": {},
   "outputs": [
    {
     "data": {
      "text/plain": [
       "738"
      ]
     },
     "execution_count": 271,
     "metadata": {},
     "output_type": "execute_result"
    }
   ],
   "source": [
    "np.count_nonzero(model1.G)"
   ]
  },
  {
   "cell_type": "code",
   "execution_count": null,
   "metadata": {},
   "outputs": [],
   "source": []
  },
  {
   "cell_type": "code",
   "execution_count": 283,
   "metadata": {},
   "outputs": [
    {
     "name": "stdout",
     "output_type": "stream",
     "text": [
      "Progress: [####################] 100.0%\n"
     ]
    }
   ],
   "source": [
    "from IPython.display import clear_output\n",
    "import csv\n",
    "\n",
    "def update_progress(progress):\n",
    "    bar_length = 20\n",
    "    if isinstance(progress, int):\n",
    "        progress = float(progress)\n",
    "    if not isinstance(progress, float):\n",
    "        progress = 0\n",
    "    if progress < 0:\n",
    "        progress = 0\n",
    "    if progress >= 1:\n",
    "        progress = 1\n",
    "\n",
    "    block = int(round(bar_length * progress))\n",
    "\n",
    "    clear_output(wait = True)\n",
    "    text = \"Progress: [{0}] {1:.1f}%\".format( \"#\" * block + \"-\" * (bar_length - block), progress * 100)\n",
    "    print(text)\n",
    "\n",
    "\n",
    "thrs = [(.1,.1), (.15,.1), (.17, .1), (.19, .1), (.195, .1), (.20, .1), (.205, .1), (.21, .1), (.23, .1), (.25, .1), (.30, .1), ]\n",
    "sim_cnt = 30 \n",
    "progress = True\n",
    "\n",
    "net_dim = 50\n",
    "agents = .8\n",
    "iters = 200\n",
    "\n",
    "\n",
    "with open('sim_results.csv', mode='w') as csv_file:\n",
    "    sim_writer = csv.writer(csv_file, delimiter=',', quotechar='\"', quoting=csv.QUOTE_MINIMAL)\n",
    "    sim_writer.writerow(['net_dim','agents','iters','threshold-mean','threshold-var','active'])\n",
    "    \n",
    "    runs_cnt = 0\n",
    "    runs_total = len(thrs)*sim_cnt\n",
    "    if progress:\n",
    "        update_progress(0)\n",
    "    \n",
    "    for t in thrs:\n",
    "        for i in range(sim_cnt):\n",
    "            m = wom(agents=agents, threshold=t, net_dim=net_dim)\n",
    "            m.simulate(iters = iters)\n",
    "            \n",
    "            acnt = np.count_nonzero(m.G)\n",
    "            active = np.count_nonzero(m.sim[-1]==3)\n",
    "            \n",
    "            sim_writer = csv.writer(csv_file, delimiter=',', quotechar='\"', quoting=csv.QUOTE_MINIMAL)\n",
    "            sim_writer.writerow([net_dim, acnt, iters, t[0], t[1], active])\n",
    "            del m\n",
    "            runs_cnt += 1\n",
    "\n",
    "            if progress:\n",
    "                update_progress(runs_cnt/runs_total)\n",
    "            \n",
    "    "
   ]
  },
  {
   "cell_type": "code",
   "execution_count": 285,
   "metadata": {},
   "outputs": [
    {
     "data": {
      "image/png": "[encoded data removed]",
      "text/plain": [
       "<Figure size 720x360 with 1 Axes>"
      ]
     },
     "metadata": {
      "needs_background": "light"
     },
     "output_type": "display_data"
    }
   ],
   "source": [
    "import pandas as pd\n",
    "\n",
    "sim_df = pd.read_csv('sim_results.csv')\n",
    "sim_df.plot(kind='scatter', x='threshold-mean', y='active', figsize=(10,5)); # logx=True, "
   ]
  },
  {
   "cell_type": "code",
   "execution_count": 280,
   "metadata": {},
   "outputs": [
    {
     "data": {
      "text/html": [
       "<div>\n",
       "<style scoped>\n",
       "    .dataframe tbody tr th:only-of-type {\n",
       "        vertical-align: middle;\n",
       "    }\n",
       "\n",
       "    .dataframe tbody tr th {\n",
       "        vertical-align: top;\n",
       "    }\n",
       "\n",
       "    .dataframe thead th {\n",
       "        text-align: right;\n",
       "    }\n",
       "</style>\n",
       "<table border=\"1\" class=\"dataframe\">\n",
       "  <thead>\n",
       "    <tr style=\"text-align: right;\">\n",
       "      <th></th>\n",
       "      <th>net_dim</th>\n",
       "      <th>agents</th>\n",
       "      <th>iters</th>\n",
       "      <th>threshold-mean</th>\n",
       "      <th>threshold-var</th>\n",
       "      <th>active</th>\n",
       "    </tr>\n",
       "  </thead>\n",
       "  <tbody>\n",
       "    <tr>\n",
       "      <th>175</th>\n",
       "      <td>50</td>\n",
       "      <td>1995</td>\n",
       "      <td>150</td>\n",
       "      <td>0.3</td>\n",
       "      <td>0.1</td>\n",
       "      <td>27</td>\n",
       "    </tr>\n",
       "    <tr>\n",
       "      <th>176</th>\n",
       "      <td>50</td>\n",
       "      <td>1996</td>\n",
       "      <td>150</td>\n",
       "      <td>0.3</td>\n",
       "      <td>0.1</td>\n",
       "      <td>12</td>\n",
       "    </tr>\n",
       "    <tr>\n",
       "      <th>177</th>\n",
       "      <td>50</td>\n",
       "      <td>2022</td>\n",
       "      <td>150</td>\n",
       "      <td>0.3</td>\n",
       "      <td>0.1</td>\n",
       "      <td>13</td>\n",
       "    </tr>\n",
       "    <tr>\n",
       "      <th>178</th>\n",
       "      <td>50</td>\n",
       "      <td>1992</td>\n",
       "      <td>150</td>\n",
       "      <td>0.3</td>\n",
       "      <td>0.1</td>\n",
       "      <td>11</td>\n",
       "    </tr>\n",
       "    <tr>\n",
       "      <th>179</th>\n",
       "      <td>50</td>\n",
       "      <td>2004</td>\n",
       "      <td>150</td>\n",
       "      <td>0.3</td>\n",
       "      <td>0.1</td>\n",
       "      <td>14</td>\n",
       "    </tr>\n",
       "  </tbody>\n",
       "</table>\n",
       "</div>"
      ],
      "text/plain": [
       "     net_dim  agents  iters  threshold-mean  threshold-var  active\n",
       "175       50    1995    150             0.3            0.1      27\n",
       "176       50    1996    150             0.3            0.1      12\n",
       "177       50    2022    150             0.3            0.1      13\n",
       "178       50    1992    150             0.3            0.1      11\n",
       "179       50    2004    150             0.3            0.1      14"
      ]
     },
     "execution_count": 280,
     "metadata": {},
     "output_type": "execute_result"
    }
   ],
   "source": [
    "sim_df.tail()"
   ]
  },
  {
   "cell_type": "code",
   "execution_count": 282,
   "metadata": {},
   "outputs": [
    {
     "data": {
      "text/plain": [
       "<AxesSubplot:xlabel='threshold-mean', ylabel='active'>"
      ]
     },
     "execution_count": 282,
     "metadata": {},
     "output_type": "execute_result"
    },
    {
     "data": {
      "image/png": "[encoded data removed]",
      "text/plain": [
       "<Figure size 720x360 with 1 Axes>"
      ]
     },
     "metadata": {
      "needs_background": "light"
     },
     "output_type": "display_data"
    }
   ],
   "source": []
  },
  {
   "cell_type": "code",
   "execution_count": null,
   "metadata": {},
   "outputs": [],
   "source": []
  }
 ],
 "metadata": {
  "kernelspec": {
   "display_name": "Python 3",
   "language": "python",
   "name": "python3"
  },
  "language_info": {
   "codemirror_mode": {
    "name": "ipython",
    "version": 3
   },
   "file_extension": ".py",
   "mimetype": "text/x-python",
   "name": "python",
   "nbconvert_exporter": "python",
   "pygments_lexer": "ipython3",
   "version": "3.8.2"
  }
 },
 "nbformat": 4,
 "nbformat_minor": 4
}
